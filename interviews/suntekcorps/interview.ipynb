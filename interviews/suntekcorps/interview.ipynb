{
 "cells": [
  {
   "cell_type": "code",
   "execution_count": null,
   "outputs": [],
   "source": [
    "import gc\n",
    "import numpy as np\n",
    "import pandas as pd\n",
    "import matplotlib.pyplot as plt\n",
    "import seaborn as sns               # 数据可视化包\n",
    "\n",
    "from sklearn.model_selection import train_test_split\n",
    "from sklearn.linear_model import LogisticRegression\n",
    "from sklearn import metrics\n",
    "\n",
    "from sklearn.neighbors import KNeighborsClassifier\n",
    "from sklearn.model_selection import GridSearchCV\n",
    "from sklearn.model_selection import train_test_split\n",
    "from sklearn.pipeline import Pipeline\n",
    "from sklearn.impute import SimpleImputer\n",
    "from sklearn.preprocessing import StandardScaler\n",
    "from sklearn.preprocessing import MinMaxScaler\n",
    "from sklearn.preprocessing import Normalizer\n",
    "from sklearn.base import TransformerMixin\n",
    "from sklearn.preprocessing import PolynomialFeatures\n",
    "from sklearn.feature_extraction.text import CountVectorizer\n",
    "from sklearn.feature_extraction.text import TfidfVectorizer\n",
    "from sklearn.naive_bayes import MultinomialNB\n",
    "\n",
    "plt.style.use('fivethirtyeight')    # 数据可视化主题\n",
    "\n",
    "# 用随机数种子保证随机数永远一致\n",
    "np.random.seed(7)\n",
    "\n",
    "# 分箱\n",
    "class CustomCutter(TransformerMixin):\n",
    "    def __init__(self):\n",
    "        pass\n",
    "\n",
    "    def transform(self, X, cols, bins=5, labels=False):\n",
    "        for col in cols:\n",
    "            X[col] = pd.cut(X[col], bins=bins, labels=labels).astype(int)\n",
    "        return X\n",
    "\n",
    "    def fit(self, *_):\n",
    "        return self\n",
    "\n",
    "# 亚编码-OneHot\n",
    "class CustomDummifier(TransformerMixin):\n",
    "    def __init__(self):\n",
    "        pass\n",
    "\n",
    "    def transform(self, X, cols=None):\n",
    "        return pd.get_dummies(X, columns=cols)\n",
    "\n",
    "    def fit(self, *_):\n",
    "        return self\n",
    "\n",
    "dumifier = CustomDummifier()\n",
    "cutter = CustomCutter()\n",
    "min_max_scaler = MinMaxScaler()\n",
    "normalizer = Normalizer(copy=True, norm='l2')\n",
    "poly2 = PolynomialFeatures(degree=2, include_bias=False, interaction_only=True)"
   ],
   "metadata": {
    "collapsed": false,
    "pycharm": {
     "name": "#%%\n",
     "is_executing": true
    }
   }
  },
  {
   "cell_type": "code",
   "execution_count": null,
   "outputs": [],
   "source": [
    "# 读取训练集\n",
    "x_y = pd.read_csv('case2_training.csv',delimiter=',',skiprows=1)\n",
    "x_y.columns = ['ID', 'Region', 'Date', 'Weekday', 'Apartment', 'Beds', 'Review', 'Pic Quality', 'Price', 'Accept']\n",
    "x_y = x_y.drop(columns=['ID'])\n",
    "x_y.head()"
   ],
   "metadata": {
    "collapsed": false,
    "pycharm": {
     "name": "#%%\n",
     "is_executing": true
    }
   }
  },
  {
   "cell_type": "markdown",
   "source": [
    "#### 1. 探索性数据分析\n",
    "|变量类型|字段|\n",
    "|:----:|:------:|\n",
    "|无序分类变量|Region、Date、Weekday、Apartment||\n",
    "|整型|Beds|\n",
    "|浮点|Review、Pic Quality、Price|"
   ],
   "metadata": {
    "collapsed": false
   }
  },
  {
   "cell_type": "code",
   "execution_count": null,
   "outputs": [],
   "source": [
    "x_y.info()"
   ],
   "metadata": {
    "collapsed": false,
    "pycharm": {
     "name": "#%%\n",
     "is_executing": true
    }
   }
  },
  {
   "cell_type": "code",
   "execution_count": null,
   "outputs": [],
   "source": [
    "x_y.isnull().sum()"
   ],
   "metadata": {
    "collapsed": false,
    "pycharm": {
     "name": "#%%\n",
     "is_executing": true
    }
   }
  },
  {
   "cell_type": "code",
   "execution_count": null,
   "outputs": [],
   "source": [
    "x_y.describe()"
   ],
   "metadata": {
    "collapsed": false,
    "pycharm": {
     "name": "#%%\n",
     "is_executing": true
    }
   }
  },
  {
   "cell_type": "markdown",
   "source": [
    "#### 2. 数据处理(特征构造)"
   ],
   "metadata": {
    "collapsed": false
   }
  },
  {
   "cell_type": "markdown",
   "source": [
    "##### 2.1 时间特征"
   ],
   "metadata": {
    "collapsed": false,
    "pycharm": {
     "name": "#%% md\n"
    }
   }
  },
  {
   "cell_type": "code",
   "execution_count": null,
   "outputs": [],
   "source": [
    "# 是否周末\n",
    "x_y['is_weekend'] = x_y['Weekday'].apply(lambda x: 1 if x in [6, 7] else 0)\n",
    "\n",
    "# 一年中的第几个周\n",
    "x_y['week_no'] = x_y['Date'].apply(lambda x:(x//7)+1)\n",
    "\n",
    "# 一年中的第几个月\n",
    "def get_month_no(day):\n",
    "    for month_no,i in enumerate([0, 31, 60, 91, 121, 152, 182, 213, 244, 274, 305, 335, 366]):\n",
    "        if day<=i: return month_no\n",
    "x_y['month_no'] = x_y['Date'].apply(lambda x:get_month_no(x))\n",
    "\n",
    "# 一年中的第几个季度\n",
    "def get_season_no(day):\n",
    "    for month_no,i in enumerate([0, 91, 182, 274, 366]):\n",
    "        if day<=i: return month_no\n",
    "x_y['season_no'] = x_y['Date'].apply(lambda x:get_season_no(x))\n",
    "\n",
    "# 是否年初\n",
    "x_y['is_year_start'] = x_y['month_no'].apply(lambda x: 1 if x in [1,2] else 0)\n",
    "\n",
    "# 是否年尾\n",
    "x_y['is_year_end'] = x_y['month_no'].apply(lambda x: 1 if x in [11,12] else 0)\n",
    "\n",
    "# OneHot\n",
    "x_y = pd.get_dummies(x_y, columns=['Weekday', 'week_no', 'month_no', 'season_no'])\n",
    "x_y = x_y.drop(columns=['Date'])"
   ],
   "metadata": {
    "collapsed": false,
    "pycharm": {
     "name": "#%%\n",
     "is_executing": true
    }
   }
  },
  {
   "cell_type": "markdown",
   "source": [
    "##### 2.2 统计聚合特征\n"
   ],
   "metadata": {
    "collapsed": false
   }
  },
  {
   "cell_type": "code",
   "execution_count": null,
   "outputs": [],
   "source": [],
   "metadata": {
    "collapsed": false,
    "pycharm": {
     "name": "#%%\n",
     "is_executing": true
    }
   }
  },
  {
   "cell_type": "markdown",
   "source": [
    "##### 2.2 无序分类变量"
   ],
   "metadata": {
    "collapsed": false
   }
  },
  {
   "cell_type": "code",
   "execution_count": null,
   "outputs": [],
   "source": [
    "# 无序分类变量编码\n",
    "x_y = dumifier.transform(x_y, cols=['Region', 'Beds', 'Review', ])\n"
   ],
   "metadata": {
    "collapsed": false,
    "pycharm": {
     "name": "#%%\n",
     "is_executing": true
    }
   }
  },
  {
   "cell_type": "markdown",
   "source": [
    "##### 2.3 数值型变量"
   ],
   "metadata": {
    "collapsed": false
   }
  },
  {
   "cell_type": "code",
   "execution_count": null,
   "outputs": [],
   "source": [
    "# 使用 min-max 标准化\n",
    "for col in ['Price']:\n",
    "    print(col,min(x_y[col]),max(x_y[col]))\n",
    "    x_y[col] = min_max_scaler.fit_transform(x_y[col].values.reshape(-1,1))\n",
    "    print(f'{col}-01',min(x_y[col]),max(x_y[col]))\n",
    "    print()\n",
    "\n",
    "# 交叉特征\n",
    "# y = x_y['Accept']\n",
    "# x = poly2.fit_transform(x_y.drop(columns=['Accept']))\n",
    "# x = pd.DataFrame(x, columns=poly2.get_feature_names())\n",
    "# x_y = pd.concat([x, y], axis=1)\n",
    "\n",
    "x_y"
   ],
   "metadata": {
    "collapsed": false,
    "pycharm": {
     "name": "#%%\n",
     "is_executing": true
    }
   }
  },
  {
   "cell_type": "markdown",
   "source": [
    "#### 3. 特征选择"
   ],
   "metadata": {
    "collapsed": false
   }
  },
  {
   "cell_type": "code",
   "execution_count": null,
   "outputs": [],
   "source": [
    "# 用 Seaborn 生成热图\n",
    "# sns.heatmap(x_y.corr())"
   ],
   "metadata": {
    "collapsed": false,
    "pycharm": {
     "name": "#%%\n",
     "is_executing": true
    }
   }
  },
  {
   "cell_type": "code",
   "execution_count": null,
   "outputs": [],
   "source": [
    "# 只有特征和响应的相关性\n",
    "# x_y.corr()['Accept']"
   ],
   "metadata": {
    "collapsed": false,
    "pycharm": {
     "name": "#%%\n",
     "is_executing": true
    }
   }
  },
  {
   "cell_type": "code",
   "execution_count": null,
   "outputs": [],
   "source": [
    "# MASK: False:0.2～0.2、True:超过正负 0.2。\n",
    "# mask = x_y.corr()['Accept'].abs() > 0.0\n",
    "# mask"
   ],
   "metadata": {
    "collapsed": false,
    "pycharm": {
     "name": "#%%\n",
     "is_executing": true
    }
   }
  },
  {
   "cell_type": "code",
   "execution_count": null,
   "outputs": [],
   "source": [
    "# x_y = x_y[x_y.columns[mask]]\n",
    "x_y"
   ],
   "metadata": {
    "collapsed": false,
    "pycharm": {
     "name": "#%%\n",
     "is_executing": true
    }
   }
  },
  {
   "cell_type": "markdown",
   "source": [
    "#### 4. 模型训练"
   ],
   "metadata": {
    "collapsed": false
   }
  },
  {
   "cell_type": "code",
   "execution_count": null,
   "outputs": [],
   "source": [
    "x, y = x_y.drop(columns=['Accept']), x_y['Accept']\n",
    "print(x.shape, y.shape)\n",
    "print(x_y['Accept'].value_counts(normalize=True))\n",
    "\n",
    "# 拆分数据集\n",
    "train_x, test_x, train_y, test_y = \\\n",
    "    train_test_split(x, y, test_size=0.25, random_state=7)\n",
    "\n",
    "# 流水线定义\n",
    "pipe_params = {\n",
    "    'classify__C': [2],\n",
    "    # 'classify__C': [1,2,3,4],\n",
    "    # 'classify__penalty': ['l1', 'l2']\n",
    "}\n",
    "\n",
    "pipe = Pipeline([\n",
    "    # 分类模型\n",
    "    ('classify', LogisticRegression(solver='liblinear'))\n",
    "])\n",
    "\n",
    "# 评估方法、CV设置\n",
    "# scoring = {'AUC': 'roc_auc', 'Accuracy': 'accuracy'}\n",
    "# grid = GridSearchCV(pipe, pipe_params, cv=4, scoring=scoring, refit='AUC')\n",
    "grid = GridSearchCV(pipe, pipe_params, cv=4, scoring='accuracy')\n",
    "\n",
    "grid.fit(train_x, train_y)\n",
    "print(grid.best_score_, grid.best_params_)\n",
    "print(grid.cv_results_)\n",
    "\n",
    "# baseline\n",
    "# grid = LogisticRegression(C=2)\n",
    "# grid.fit(train_x, train_y)\n",
    "\n",
    "pred_y = grid.predict(test_x)\n",
    "if isinstance(test_y, pd.Series):\n",
    "    val_y = test_y.to_numpy()\n",
    "print(f'精确度：{metrics.accuracy_score(test_y, pred_y)}')\n",
    "\n",
    "fpr, tpr, thresholds = metrics.roc_curve(test_y, pred_y)\n",
    "print(f'auc：{metrics.auc(fpr, tpr)}')# 精准度\n"
   ],
   "metadata": {
    "collapsed": false,
    "pycharm": {
     "name": "#%%\n",
     "is_executing": true
    }
   }
  }
 ],
 "metadata": {
  "kernelspec": {
   "display_name": "Python 3",
   "language": "python",
   "name": "python3"
  },
  "language_info": {
   "codemirror_mode": {
    "name": "ipython",
    "version": 3
   },
   "file_extension": ".py",
   "mimetype": "text/x-python",
   "name": "python",
   "nbconvert_exporter": "python",
   "pygments_lexer": "ipython3",
   "version": "3.6.2"
  },
  "toc": {
   "base_numbering": 1,
   "nav_menu": {},
   "number_sections": true,
   "sideBar": true,
   "skip_h1_title": false,
   "title_cell": "Table of Contents",
   "title_sidebar": "Contents",
   "toc_cell": false,
   "toc_position": {},
   "toc_section_display": true,
   "toc_window_display": false
  }
 },
 "nbformat": 4,
 "nbformat_minor": 1
}